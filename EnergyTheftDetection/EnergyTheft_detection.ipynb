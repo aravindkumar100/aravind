{
 "cells": [
  {
   "cell_type": "code",
   "execution_count": 1,
   "metadata": {},
   "outputs": [],
   "source": [
    "import pandas as pd\n",
    "import math\n",
    "#import autocomplete\n",
    "import matplotlib.pyplot as plt\n",
    "import numpy as np\n",
    "import seaborn as sns\n",
    "import warnings\n",
    "warnings.simplefilter('ignore') \n",
    "\n",
    "\n",
    "#importing required Modules and Algorithms\n",
    "from sklearn.model_selection import train_test_split\n",
    "from sklearn.preprocessing import OneHotEncoder,OrdinalEncoder,StandardScaler, MinMaxScaler, FunctionTransformer,LabelEncoder\n",
    "from sklearn.pipeline import Pipeline\n",
    "from sklearn.tree import DecisionTreeClassifier\n",
    "from sklearn.compose import ColumnTransformer\n",
    "from sklearn.model_selection import cross_val_score,GridSearchCV,cross_val_predict\n",
    "from sklearn.ensemble import RandomForestClassifier,ExtraTreesClassifier\n",
    "from sklearn.linear_model import LogisticRegression,SGDClassifier\n",
    "from sklearn.decomposition import PCA\n",
    "from sklearn.metrics import precision_score, recall_score,f1_score, accuracy_score\n",
    "from sklearn.metrics import precision_recall_curve,roc_curve,roc_auc_score\n",
    "from sklearn.metrics import confusion_matrix\n",
    "from imblearn.pipeline import make_pipeline \n",
    "from imblearn.over_sampling import SMOTE\n",
    "from xgboost import XGBClassifier"
   ]
  },
  {
   "cell_type": "code",
   "execution_count": 2,
   "metadata": {},
   "outputs": [],
   "source": [
    "def model_performance(model,x,y):\n",
    "    pred=model.predict(x)\n",
    "    print(\"Model Performance\")\n",
    "    print(\"--------------------------\")\n",
    "    print (\"Accuracy:\",accuracy_score(y,pred))\n",
    "    print (\"precision:\", precision_score(y,pred))\n",
    "    print (\"Recall:\",recall_score(y,pred))\n",
    "    print (\"F1 Score:\",f1_score(y,pred))\n",
    "def model_performance_scores(model,x,y):\n",
    "    pred=model.predict(x)\n",
    "    return accuracy_score(y,pred), precision_score(y,pred),recall_score(y,pred),f1_score(y,pred)\n",
    "def display_AUC_ROC():\n",
    "    print('Area Under ROC')\n",
    "    print('---------------')\n",
    "    print('LogisticRegression:',roc_auc_score(y_train, y_logitint_scores).round(3))\n",
    "    print('DecisionTree:',roc_auc_score(y_train, y_dt_scores).round(3))\n",
    "    print('RandomForest:',roc_auc_score(y_train, y_rf_scores).round(3))\n",
    "    print('XGBoost:',roc_auc_score(y_train, y_xgb_scores).round(3))\n",
    "    plt.figure(figsize=(8,6))\n",
    "    plt.plot(fpr_logit,tpr_logit,label=\"Logistic regression\")\n",
    "    plt.plot(fpr_dt,tpr_dt,label=\"Decisiontree\")\n",
    "    plt.plot(fpr_rf,tpr_rf,label=\"Random Forest\")\n",
    "    plt.plot(fpr_xgb,tpr_xgb,label=\"Gradient Boosting\")\n",
    "    plt.plot([0, 1], [0, 1], 'k--'),plt.axis([0, 1, 0, 1.1])\n",
    "    plt.xlabel('False Positive Rate') ,plt.ylabel('True Positive Rate')\n",
    "    plt.legend(loc='lower right'),plt.title('Recieve operator curve')"
   ]
  },
  {
   "cell_type": "code",
   "execution_count": 3,
   "metadata": {},
   "outputs": [],
   "source": [
    "#loading\n",
    "ouc_df=pd.read_csv(\"oucdata1.csv\")\n",
    "#eleminating\n",
    "oucdf=ouc_df.drop(columns=['READING_TS_LTZ','Unnamed: 0','METER_SCHEDULE','IS_BILLING_FLG','COLLECTION_TS_LTZ','INTERVAL_SECONDS','NUM_INTERVAL','SUM_INTERVALS','DIRECTION','DATETIME_KEYI','COLLECTOR_KEY','SEQ','SP_ID','LONGITUDE','LATITUDE','WATER_ONLY_FLG','INSTALLED_REMOVED','LOCATION','UOM'])\n",
    "#sampling\n",
    "oucdf_sample=oucdf.sample(n=750000,random_state=123)\n",
    "#dummy variables\n",
    "model_data=pd.get_dummies(oucdf_sample)\n",
    "X_full=model_data.drop('STATUS_CATEGORY',axis=1)\n",
    "y_full=model_data.loc[:,'STATUS_CATEGORY']\n",
    "#Splitting\n",
    "X, X_test, y, y_test= train_test_split(X_full,y_full,test_size=0.2,random_state =123)\n",
    "X_train, X_valid, y_train, y_valid= train_test_split(X,y,test_size=0.2,random_state =124)"
   ]
  },
  {
   "cell_type": "code",
   "execution_count": 12,
   "metadata": {},
   "outputs": [
    {
     "name": "stdout",
     "output_type": "stream",
     "text": [
      "[13:47:35] WARNING: C:\\Users\\Administrator\\workspace\\xgboost-win64_release_1.2.0\\src\\learner.cc:516: \n",
      "Parameters: { silent } might not be used.\n",
      "\n",
      "  This may not be accurate due to some parameters are only used in language bindings but\n",
      "  passed down to XGBoost core.  Or some parameters are not used but slip through this\n",
      "  verification. Please open an issue if you find above cases.\n",
      "\n",
      "\n"
     ]
    }
   ],
   "source": [
    "#logistic Regression\n",
    "log_reg=LogisticRegression(solver='liblinear')\n",
    "log_reg.fit(X_train,y_train)\n",
    "logistic_train_scores=list(model_performance_scores(log_reg,X_train,y_train))\n",
    "logistic_test_scores=list(model_performance_scores(log_reg,X_test,y_test))\n",
    "y_logitint_predict_prob=log_reg.predict_proba(X_train)\n",
    "y_logitint_scores=y_logitint_predict_prob[:,1]\n",
    "fpr_logit, tpr_logit, thresholds_logit = roc_curve(y_train, y_logitint_scores)\n",
    "\n",
    "\n",
    "#Decesion Tree\n",
    "dt=DecisionTreeClassifier(max_depth=4)\n",
    "dt.fit(X_train,y_train)\n",
    "dt_train_scores=list(model_performance_scores(dt,X_train,y_train))\n",
    "dt_test_scores=list(model_performance_scores(dt,X_test,y_test))\n",
    "y_dt_predict_prob=dt.predict_proba(X_train)\n",
    "y_dt_scores=y_dt_predict_prob[:,1]\n",
    "fpr_dt, tpr_dt, thresholds_dt = roc_curve(y_train, y_dt_scores)\n",
    "\n",
    "\n",
    "#Random Forest\n",
    "rf = RandomForestClassifier(max_depth=3,n_estimators=500,random_state=4)\n",
    "rf.fit(X_train,y_train)\n",
    "rf_test_scores=list(model_performance_scores(rf,X_test,y_test))\n",
    "y_random_predict_prob=rf.predict_proba(X_train)\n",
    "y_rf_scores=y_random_predict_prob[:,1]\n",
    "fpr_rf, tpr_rf, thresholds_rf = roc_curve(y_train, y_rf_scores)\n",
    "\n",
    "#XGboost\n",
    "XGB_model = XGBClassifier(silent=False, \n",
    "                      scale_pos_weight=1,\n",
    "                      learning_rate=0.01,  \n",
    "                      colsample_bytree = 0.6,\n",
    "                      subsample = 0.8,\n",
    "                      objective='binary:logistic', \n",
    "                      n_estimators=10000, \n",
    "                      reg_alpha = 0.3,\n",
    "                      max_depth=3, \n",
    "                      gamma=10\n",
    "                    )\n",
    "XGB_model.fit(X_train,y_train)\n",
    "xgb_train_scores=list(model_performance_scores(XGB_model,X_train,y_train))\n",
    "xgb_test_scores=list(model_performance_scores(XGB_model,X_test,y_test))\n",
    "y_xgb_predict_prob=XGB_model.predict_proba(X_train)\n",
    "y_xgb_scores=y_xgb_predict_prob[:,1]\n",
    "fpr_xgb, tpr_xgb, thresholds_xgb = roc_curve(y_train, y_xgb_scores)"
   ]
  },
  {
   "cell_type": "code",
   "execution_count": 13,
   "metadata": {},
   "outputs": [
    {
     "data": {
      "text/html": [
       "<div>\n",
       "<style scoped>\n",
       "    .dataframe tbody tr th:only-of-type {\n",
       "        vertical-align: middle;\n",
       "    }\n",
       "\n",
       "    .dataframe tbody tr th {\n",
       "        vertical-align: top;\n",
       "    }\n",
       "\n",
       "    .dataframe thead th {\n",
       "        text-align: right;\n",
       "    }\n",
       "</style>\n",
       "<table border=\"1\" class=\"dataframe\">\n",
       "  <thead>\n",
       "    <tr style=\"text-align: right;\">\n",
       "      <th></th>\n",
       "      <th>Accuracy</th>\n",
       "      <th>Precision</th>\n",
       "      <th>Recall</th>\n",
       "      <th>F1 Score</th>\n",
       "    </tr>\n",
       "  </thead>\n",
       "  <tbody>\n",
       "    <tr>\n",
       "      <th>logistic_test</th>\n",
       "      <td>0.977633</td>\n",
       "      <td>0.000000</td>\n",
       "      <td>0.000000</td>\n",
       "      <td>0.000000</td>\n",
       "    </tr>\n",
       "    <tr>\n",
       "      <th>DecisionTree_test</th>\n",
       "      <td>0.994107</td>\n",
       "      <td>0.968525</td>\n",
       "      <td>0.761252</td>\n",
       "      <td>0.852470</td>\n",
       "    </tr>\n",
       "    <tr>\n",
       "      <th>RandomForest_test</th>\n",
       "      <td>0.989847</td>\n",
       "      <td>0.970226</td>\n",
       "      <td>0.563338</td>\n",
       "      <td>0.712804</td>\n",
       "    </tr>\n",
       "    <tr>\n",
       "      <th>XGB_Test</th>\n",
       "      <td>0.994107</td>\n",
       "      <td>0.968525</td>\n",
       "      <td>0.761252</td>\n",
       "      <td>0.852470</td>\n",
       "    </tr>\n",
       "  </tbody>\n",
       "</table>\n",
       "</div>"
      ],
      "text/plain": [
       "                   Accuracy  Precision    Recall  F1 Score\n",
       "logistic_test      0.977633   0.000000  0.000000  0.000000\n",
       "DecisionTree_test  0.994107   0.968525  0.761252  0.852470\n",
       "RandomForest_test  0.989847   0.970226  0.563338  0.712804\n",
       "XGB_Test           0.994107   0.968525  0.761252  0.852470"
      ]
     },
     "execution_count": 13,
     "metadata": {},
     "output_type": "execute_result"
    }
   ],
   "source": [
    "scores=pd.DataFrame([logistic_test_scores,\n",
    "                   dt_test_scores,rf_test_scores,\n",
    "                    xgb_test_scores])\n",
    "scores.columns=['Accuracy','Precision','Recall','F1 Score']\n",
    "scores.index=['logistic_test',\n",
    "              'DecisionTree_test',\n",
    "              'RandomForest_test',\n",
    "               'XGB_Test']\n",
    "scores"
   ]
  },
  {
   "cell_type": "code",
   "execution_count": 14,
   "metadata": {},
   "outputs": [
    {
     "name": "stdout",
     "output_type": "stream",
     "text": [
      "Area Under ROC\n",
      "---------------\n",
      "LogisticRegression: 0.665\n",
      "DecisionTree: 0.905\n",
      "RandomForest: 0.92\n",
      "XGBoost: 0.971\n"
     ]
    },
    {
     "data": {
      "image/png": "[encoded data removed]",
      "text/plain": [
       "<Figure size 576x432 with 1 Axes>"
      ]
     },
     "metadata": {
      "needs_background": "light"
     },
     "output_type": "display_data"
    }
   ],
   "source": [
    "display_AUC_ROC()"
   ]
  },
  {
   "cell_type": "markdown",
   "metadata": {},
   "source": [
    "## Smoteen"
   ]
  },
  {
   "cell_type": "code",
   "execution_count": 4,
   "metadata": {},
   "outputs": [
    {
     "name": "stdout",
     "output_type": "stream",
     "text": [
      "[13:00:21] WARNING: C:\\Users\\Administrator\\workspace\\xgboost-win64_release_1.2.0\\src\\learner.cc:516: \n",
      "Parameters: { silent } might not be used.\n",
      "\n",
      "  This may not be accurate due to some parameters are only used in language bindings but\n",
      "  passed down to XGBoost core.  Or some parameters are not used but slip through this\n",
      "  verification. Please open an issue if you find above cases.\n",
      "\n",
      "\n"
     ]
    }
   ],
   "source": [
    "\n",
    "#logistic Regression\n",
    "model=LogisticRegression(solver='liblinear')\n",
    "log_reg = make_pipeline(SMOTE(random_state=12), model)\n",
    "log_reg.fit(X_train,y_train)\n",
    "logistic_train_scores=list(model_performance_scores(log_reg,X_train,y_train))\n",
    "logistic_test_scores=list(model_performance_scores(log_reg,X_valid,y_valid))\n",
    "y_logitint_predict_prob=log_reg.predict_proba(X_train)\n",
    "y_logitint_scores=y_logitint_predict_prob[:,1]\n",
    "fpr_logit, tpr_logit, thresholds_logit = roc_curve(y_train, y_logitint_scores)\n",
    "\n",
    "\n",
    "#Decesion Tree\n",
    "model=DecisionTreeClassifier(max_depth=4)\n",
    "dt = make_pipeline(SMOTE(random_state=12), model)\n",
    "dt.fit(X_train,y_train)\n",
    "dt_train_scores=list(model_performance_scores(dt,X_train,y_train))\n",
    "dt_test_scores=list(model_performance_scores(dt,X_valid,y_valid))\n",
    "y_dt_predict_prob=dt.predict_proba(X_train)\n",
    "y_dt_scores=y_dt_predict_prob[:,1]\n",
    "fpr_dt, tpr_dt, thresholds_dt = roc_curve(y_train, y_dt_scores)\n",
    "\n",
    "\n",
    "#Random Forest\n",
    "model= RandomForestClassifier(max_depth=3,n_estimators=500,random_state=4)\n",
    "rf = make_pipeline(SMOTE(random_state=12), model)\n",
    "rf.fit(X_train,y_train)\n",
    "rf_test_scores=list(model_performance_scores(rf,X_valid,y_valid))\n",
    "y_random_predict_prob=rf.predict_proba(X_train)\n",
    "y_rf_scores=y_random_predict_prob[:,1]\n",
    "fpr_rf, tpr_rf, thresholds_rf = roc_curve(y_train, y_rf_scores)\n",
    "\n",
    "#XGboost\n",
    "model = XGBClassifier(silent=False, \n",
    "                      scale_pos_weight=1,\n",
    "                      learning_rate=0.01,  \n",
    "                      colsample_bytree = 0.6,\n",
    "                      subsample = 0.8,\n",
    "                      objective='binary:logistic', \n",
    "                      n_estimators=10000, \n",
    "                      reg_alpha = 0.3,\n",
    "                      max_depth=3, \n",
    "                      gamma=10\n",
    "                    )\n",
    "\n",
    "XGB_model = make_pipeline(SMOTE(random_state=12), model)\n",
    "XGB_model.fit(X_train,y_train)\n",
    "xgb_train_scores=list(model_performance_scores(XGB_model,X_train,y_train))\n",
    "xgb_test_scores=list(model_performance_scores(XGB_model,X_valid,y_valid))\n",
    "y_xgb_predict_prob=XGB_model.predict_proba(X_train)\n",
    "y_xgb_scores=y_xgb_predict_prob[:,1]\n",
    "fpr_xgb, tpr_xgb, thresholds_xgb = roc_curve(y_train, y_xgb_scores)"
   ]
  },
  {
   "cell_type": "code",
   "execution_count": 5,
   "metadata": {},
   "outputs": [
    {
     "data": {
      "text/html": [
       "<div>\n",
       "<style scoped>\n",
       "    .dataframe tbody tr th:only-of-type {\n",
       "        vertical-align: middle;\n",
       "    }\n",
       "\n",
       "    .dataframe tbody tr th {\n",
       "        vertical-align: top;\n",
       "    }\n",
       "\n",
       "    .dataframe thead th {\n",
       "        text-align: right;\n",
       "    }\n",
       "</style>\n",
       "<table border=\"1\" class=\"dataframe\">\n",
       "  <thead>\n",
       "    <tr style=\"text-align: right;\">\n",
       "      <th></th>\n",
       "      <th>Accuracy</th>\n",
       "      <th>Precision</th>\n",
       "      <th>Recall</th>\n",
       "      <th>F1 Score</th>\n",
       "    </tr>\n",
       "  </thead>\n",
       "  <tbody>\n",
       "    <tr>\n",
       "      <th>logistic_test</th>\n",
       "      <td>0.776583</td>\n",
       "      <td>0.076209</td>\n",
       "      <td>0.826302</td>\n",
       "      <td>0.139547</td>\n",
       "    </tr>\n",
       "    <tr>\n",
       "      <th>DecisionTree_test</th>\n",
       "      <td>0.977092</td>\n",
       "      <td>0.486579</td>\n",
       "      <td>0.812999</td>\n",
       "      <td>0.608795</td>\n",
       "    </tr>\n",
       "    <tr>\n",
       "      <th>RandomForest_test</th>\n",
       "      <td>0.994550</td>\n",
       "      <td>0.976386</td>\n",
       "      <td>0.770049</td>\n",
       "      <td>0.861028</td>\n",
       "    </tr>\n",
       "    <tr>\n",
       "      <th>XGB_Test</th>\n",
       "      <td>0.962317</td>\n",
       "      <td>0.349801</td>\n",
       "      <td>0.836944</td>\n",
       "      <td>0.493390</td>\n",
       "    </tr>\n",
       "  </tbody>\n",
       "</table>\n",
       "</div>"
      ],
      "text/plain": [
       "                   Accuracy  Precision    Recall  F1 Score\n",
       "logistic_test      0.776583   0.076209  0.826302  0.139547\n",
       "DecisionTree_test  0.977092   0.486579  0.812999  0.608795\n",
       "RandomForest_test  0.994550   0.976386  0.770049  0.861028\n",
       "XGB_Test           0.962317   0.349801  0.836944  0.493390"
      ]
     },
     "execution_count": 5,
     "metadata": {},
     "output_type": "execute_result"
    }
   ],
   "source": [
    "scores=pd.DataFrame([logistic_test_scores,\n",
    "                   dt_test_scores,rf_test_scores,\n",
    "                    xgb_test_scores])\n",
    "scores.columns=['Accuracy','Precision','Recall','F1 Score']\n",
    "scores.index=['logistic_test',\n",
    "              'DecisionTree_test',\n",
    "              'RandomForest_test',\n",
    "               'XGB_Test']\n",
    "scores"
   ]
  },
  {
   "cell_type": "code",
   "execution_count": 6,
   "metadata": {},
   "outputs": [
    {
     "name": "stdout",
     "output_type": "stream",
     "text": [
      "Area Under ROC\n",
      "---------------\n",
      "LogisticRegression: 0.853\n",
      "DecisionTree: 0.905\n",
      "RandomForest: 0.938\n",
      "XGBoost: 0.974\n"
     ]
    },
    {
     "data": {
      "image/png": "[encoded data removed]",
      "text/plain": [
       "<Figure size 576x432 with 1 Axes>"
      ]
     },
     "metadata": {
      "needs_background": "light"
     },
     "output_type": "display_data"
    }
   ],
   "source": [
    "display_AUC_ROC()"
   ]
  },
  {
   "cell_type": "code",
   "execution_count": null,
   "metadata": {},
   "outputs": [],
   "source": []
  }
 ],
 "metadata": {
  "kernelspec": {
   "display_name": "Python 3",
   "language": "python",
   "name": "python3"
  },
  "language_info": {
   "codemirror_mode": {
    "name": "ipython",
    "version": 3
   },
   "file_extension": ".py",
   "mimetype": "text/x-python",
   "name": "python",
   "nbconvert_exporter": "python",
   "pygments_lexer": "ipython3",
   "version": "3.7.3"
  }
 },
 "nbformat": 4,
 "nbformat_minor": 4
}
